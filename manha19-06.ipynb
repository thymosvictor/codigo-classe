{
 "cells": [
  {
   "cell_type": "code",
   "execution_count": 14,
   "metadata": {},
   "outputs": [],
   "source": [
    "class Animal():\n",
    "\n",
    "    def __init__(self, name, weight, color):\n",
    "\n",
    "       self.nome = name\n",
    "       self.peso = weight\n",
    "       self.cordepelo = color\n",
    "       \n",
    "    def imprimirDados (self):\n",
    "        return(\"Nome: %s \\nPeso: %s\" %(self.nome, self.peso))\n",
    " \n",
    "    def latir(self,barulho):\n",
    "        print(barulho)"
   ]
  },
  {
   "cell_type": "code",
   "execution_count": 15,
   "metadata": {},
   "outputs": [
    {
     "name": "stdout",
     "output_type": "stream",
     "text": [
      "Nome: Marlene \n",
      "Peso: 7.9\n",
      "au, au!\n",
      "Nome: cibele \n",
      "Peso: 4.5\n",
      "Miau!\n"
     ]
    }
   ],
   "source": [
    "caozinho = Animal(name=\"Marlene\", weight=7.9, color=\"caramelo\")\n",
    "gato = Animal(name=\"cibele\", weight=4.5, color=\"cinza\")\n",
    "\n",
    "print(caozinho.imprimirDados())\n",
    "caozinho.latir (barulho=\"au, au!\")\n",
    "\n",
    "print (gato.imprimirDados())\n",
    "gato.latir(barulho=\"Miau!\")"
   ]
  },
  {
   "cell_type": "code",
   "execution_count": 16,
   "metadata": {},
   "outputs": [],
   "source": [
    "class Livro():\n",
    "    def __init__(self):\n",
    "       self.titulo = 'O Monge e o Executivo'\n",
    "       self.isbn = 9988888\n",
    "       print(\"Construtor chamado para criar um objeto desta classe\")\n",
    "\n",
    "    def imprime(self):\n",
    "        print( \"Foi criado o livro %s e ISBN %d\" %(self.titulo, self.isbn))\n",
    "\n",
    "        "
   ]
  },
  {
   "cell_type": "code",
   "execution_count": 20,
   "metadata": {},
   "outputs": [
    {
     "name": "stdout",
     "output_type": "stream",
     "text": [
      "Construtor chamado para criar um objeto desta classe\n"
     ]
    }
   ],
   "source": [
    "Livro1 = Livro()"
   ]
  },
  {
   "cell_type": "code",
   "execution_count": 27,
   "metadata": {},
   "outputs": [],
   "source": [
    "class Livro():\n",
    "    def __init__(self,titulo,isbn):\n",
    "       self.titulo = titulo\n",
    "       self.isbn = isbn\n",
    "       print(\"Construtor chamado para criar um objeto desta classe\")\n",
    "\n",
    "    def imprime(self):\n",
    "        print( \"Foi criado o livro %s e ISBN %d\" %(self.titulo, self.isbn))\n"
   ]
  },
  {
   "cell_type": "markdown",
   "metadata": {},
   "source": [
    "instancia da classe livro:"
   ]
  },
  {
   "cell_type": "code",
   "execution_count": 28,
   "metadata": {},
   "outputs": [
    {
     "name": "stdout",
     "output_type": "stream",
     "text": [
      "Construtor chamado para criar um objeto desta classe\n"
     ]
    }
   ],
   "source": [
    "Livro2 = Livro('A menina que roubava livros', 77886611)"
   ]
  }
 ],
 "metadata": {
  "kernelspec": {
   "display_name": "Python 3",
   "language": "python",
   "name": "python3"
  },
  "language_info": {
   "codemirror_mode": {
    "name": "ipython",
    "version": 3
   },
   "file_extension": ".py",
   "mimetype": "text/x-python",
   "name": "python",
   "nbconvert_exporter": "python",
   "pygments_lexer": "ipython3",
   "version": "3.11.4"
  }
 },
 "nbformat": 4,
 "nbformat_minor": 2
}
